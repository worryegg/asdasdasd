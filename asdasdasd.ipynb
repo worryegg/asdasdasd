{
 "cells": [
  {
   "cell_type": "code",
   "execution_count": 1,
   "metadata": {},
   "outputs": [],
   "source": [
    "import numpy as np\n",
    "import matplotlib.pyplot as plt\n",
    "%matplotlib inline"
   ]
  },
  {
   "cell_type": "markdown",
   "metadata": {},
   "source": [
    "$$\\%CC = \\dfrac{D \\cdot (B \\cdot Cf_{0} + Cf) \\cdot G \\cdot I}{5625 \\cdot CR} + A + F$$\\\n",
    "$$L = Playerlevel - Moblevel$$\\\n",
    "$$F = T \\cdot L$$\\\n",
    "$$T = \\begin{cases} \n",
    "1.50\\% & L > 0 \\\\\n",
    "0.25\\% & L < 0 & \\mathrm{Normal} \\\\\n",
    "0.50\\% & L < 0 & \\mathrm{Bam} \\end{cases}$$\n",
    "\n",
    "$A$ = Additional Crit Chance\n",
    "\n",
    "$B$ = Glyph Value of Base Crit Factor\n",
    "\n",
    "$D$ = Directional Modifier (1000 = Front, 1200 = Side, 1600 = Back)\n",
    "\n",
    "$F$ = Level difference Modifier\n",
    "\n",
    "$G$ = Glyph Value of Crit Chance Glyph (Glyphs/Passives that increase Crit Chance)\n",
    "\n",
    "$I$ = Skill Innate Crit Modifier\n",
    "\n",
    "$\\%CC$ = Crit Chance\n",
    "\n",
    "$CR$ = Crit Resist Factor (For current bosses the base is 210)\n",
    "\n",
    "$Cf_{0}$ = Class Base Crit Factor\n",
    "\n",
    "$Cf$ = Bonus Crit Factor\n",
    "\n",
    "$L$ = Playerlevel - Moblevel"
   ]
  },
  {
   "cell_type": "code",
   "execution_count": 2,
   "metadata": {},
   "outputs": [],
   "source": [
    "# skills\n",
    "# [base damage, phy factor, innate, glyph, additional cc, base cf multiplier, glyph_dmg (15 focus + ww)]\n",
    "\n",
    "skills = {\n",
    "    'ht':  [4514*1.07, 1.5, 1.4, 1, 0, 2, 0.4],\n",
    "    'kds': [4290*1.07, 1.5, 1, 1, 0, 2, 0.4],\n",
    "    'ww':  [4868*1.07/2, 1.4, 1, 1, 0.1, 2, 0.4],\n",
    "    'ohs': [2754*1.1, 1.3, 1.3, 1, 0, 0, 0.65],\n",
    "    'ev':  [4043*1.07, 1.3, 1.5, 1, 0, 0, 0.4],\n",
    "    'pb':  [15421, 1.75, 3, 1, 0, 0, 0.4],\n",
    "    'ms':  [6443, 1.5, 1.5, 3, 0, 0, 0.65],\n",
    "    'ss':  [2857, 1.2, 10, 1, 0, 0, 0.4]\n",
    "}"
   ]
  },
  {
   "cell_type": "code",
   "execution_count": 3,
   "metadata": {},
   "outputs": [],
   "source": [
    "# hpms from sample log\n",
    "\n",
    "hpm_noicb = {\n",
    "    'ht': 2.98,\n",
    "    'kds': 0,\n",
    "    'ww': 29.83,\n",
    "    'ohs': 26.84,\n",
    "    'ev': 10.94,\n",
    "    'pb': 7.95,\n",
    "    'ms': 14.91,\n",
    "    'ss': 7.95\n",
    "}\n",
    "\n",
    "hpm_icb = {\n",
    "    'ht': 6.79,\n",
    "    'kds': 2.26,\n",
    "    'ww': 31.68,\n",
    "    'ohs': 49.78,\n",
    "    'ev': 9.05,\n",
    "    'pb': 9.05,\n",
    "    'ms': 15.84,\n",
    "    'ss': 9.05\n",
    "}"
   ]
  },
  {
   "cell_type": "code",
   "execution_count": 4,
   "metadata": {},
   "outputs": [],
   "source": [
    "def crit_chance(crit_factor, skill, is_icb):\n",
    "    \n",
    "    A = skills[skill][4]\n",
    "    B = skills[skill][5]\n",
    "    D = 1600\n",
    "    G = skills[skill][3]\n",
    "    I = skills[skill][2]\n",
    "    CR = 300-12 # -25 from weapon proc, inconsistent though\n",
    "    Cf0 = 56\n",
    "    Cf = crit_factor\n",
    "    L = -3\n",
    "    F = 0.005*L\n",
    "\n",
    "    if is_icb:\n",
    "        G += 0.25\n",
    "    \n",
    "    CC = ((D * ((B * Cf0) + Cf) * G * I)/(5625*CR)) + A + F\n",
    "    \n",
    "    return CC"
   ]
  },
  {
   "cell_type": "code",
   "execution_count": 5,
   "metadata": {},
   "outputs": [],
   "source": [
    "def skill_damage(skill, cp, phy_amp, phy_cp, glyph_dmg, is_crit: bool, is_icb=False):\n",
    "    \n",
    "    s_def = 40000 - 15000 - (0.09*phy_amp)\n",
    "    base_damage = skills[skill][0]\n",
    "    phy_factor = skills[skill][1]\n",
    "    bam_crit_mult = 0.9\n",
    "    \n",
    "    if not is_crit: \n",
    "        cp = 1\n",
    "        phy_cp = 1\n",
    "        bam_crit_mult = 1\n",
    "    \n",
    "    if is_icb:\n",
    "        glyph_dmg += 0.15\n",
    "        phy_amp *= 1.05\n",
    "        if skill == 'ohs':\n",
    "            glyph_dmg += 0.40\n",
    "    \n",
    "    total_mod = cp * bam_crit_mult + (phy_amp * phy_factor * phy_cp / (100000 + s_def))\n",
    "    total_damage = base_damage * total_mod * (1 + glyph_dmg)\n",
    "    \n",
    "    return total_damage"
   ]
  },
  {
   "cell_type": "code",
   "execution_count": 6,
   "metadata": {},
   "outputs": [],
   "source": [
    "def total_hpm(icb_uptime):\n",
    "    \n",
    "    hpm = {}\n",
    "    \n",
    "    for skill in hpm_noicb:\n",
    "        hpm[skill] = hpm_icb[skill] * icb_uptime + hpm_noicb[skill] * (1-icb_uptime)\n",
    "    \n",
    "    return hpm"
   ]
  },
  {
   "cell_type": "code",
   "execution_count": 7,
   "metadata": {},
   "outputs": [],
   "source": [
    "def total_damage(power, crit_factor, cp, phy_amp, phy_cp, icb_uptime, breakdown=False):\n",
    "    \n",
    "    result = {}\n",
    "    dmg_sum = 0\n",
    "    \n",
    "    for skill in skills:\n",
    "        s = []\n",
    "        cc_noicb = min(1, crit_chance(crit_factor, skill, False))\n",
    "        cc_icb = min(1, crit_chance(crit_factor, skill, True))\n",
    "        glyph_dmg = skills[skill][6]\n",
    "        \n",
    "        dmg_noicb = (((power + 100)/(70 + 100)) * hpm_noicb[skill] *\n",
    "                        (1-icb_uptime) * ((cc_noicb * skill_damage(skill, cp, phy_amp, phy_cp, glyph_dmg, True))\n",
    "                        + ((1-cc_noicb) * skill_damage(skill, cp, phy_amp, phy_cp, glyph_dmg, False))))\n",
    "        dmg_icb = (((power + 25 + 100)/(70 + 100)) * hpm_icb[skill] *\n",
    "                        icb_uptime * ((cc_icb * skill_damage(skill, cp, phy_amp, phy_cp, glyph_dmg, True, True))\n",
    "                        + ((1-cc_icb) * skill_damage(skill, cp, phy_amp, phy_cp, glyph_dmg, False, True))))\n",
    "\n",
    "        s.extend([cc_icb*icb_uptime + cc_noicb*(1-icb_uptime), dmg_noicb, dmg_icb, dmg_noicb + dmg_icb])\n",
    "\n",
    "        dmg_sum += dmg_noicb + dmg_icb\n",
    "        result[skill] = s\n",
    "    \n",
    "    for skill in result:\n",
    "        total_skill_dmg = result[skill][3]\n",
    "        percent_dmg = 100 * total_skill_dmg/dmg_sum\n",
    "        result[skill].append(percent_dmg)\n",
    "\n",
    "    if breakdown:\n",
    "        print(dmg_sum)\n",
    "        return result\n",
    "    else:\n",
    "        return dmg_sum"
   ]
  },
  {
   "cell_type": "code",
   "execution_count": 8,
   "metadata": {},
   "outputs": [],
   "source": [
    "# testing not averaged additional cf\n",
    "\n",
    "def total_damage_p(power, crit_factor, cp, phy_amp, phy_cp, icb_uptime, breakdown=False):\n",
    "    \n",
    "    result = {}\n",
    "    dmg_sum = 0\n",
    "    \n",
    "    for skill in skills:\n",
    "        s = []\n",
    "        cc_noicb = min(1, crit_chance(crit_factor, skill, False))\n",
    "        cc_noicb1 = min(1, crit_chance(crit_factor+20, skill, False))\n",
    "        cc_noicb2 = min(1, crit_chance(crit_factor+50, skill, False))\n",
    "        cc_noicb3 = min(1, crit_chance(crit_factor+30, skill, False))\n",
    "        cc_icb = min(1, crit_chance(crit_factor, skill, True))\n",
    "        cc_icb1 = min(1, crit_chance(crit_factor+20, skill, True))\n",
    "        cc_icb2 = min(1, crit_chance(crit_factor+50, skill, True))\n",
    "        cc_icb3 = min(1, crit_chance(crit_factor+30, skill, True))\n",
    "        glyph_dmg = skills[skill][6]\n",
    "        \n",
    "        dmg_noicb = (((power + 100)/(70 + 100)) * hpm_noicb[skill] *\n",
    "                        (1-icb_uptime) * ((((0.29*cc_noicb) + (0.36*cc_noicb1) + (0.14*cc_noicb2) + (0.21*cc_noicb3)) * skill_damage(skill, cp, phy_amp, phy_cp, glyph_dmg, True))\n",
    "                        + ((1-((0.29*cc_noicb) + (0.36*cc_noicb1) + (0.14*cc_noicb2) + (0.21*cc_noicb3))) * skill_damage(skill, cp, phy_amp, phy_cp, glyph_dmg, False))))\n",
    "        dmg_icb = (((power + 25 + 100)/(70 + 100)) * hpm_icb[skill] *\n",
    "                        icb_uptime * ((((0.29*cc_icb) + (0.36*cc_icb1) + (0.14*cc_icb2) + (0.21*cc_icb3)) * skill_damage(skill, cp, phy_amp, phy_cp, glyph_dmg, True, True))\n",
    "                        + ((1-((0.29*cc_icb) + (0.36*cc_icb1) + (0.14*cc_icb2) + (0.21*cc_icb3))) * skill_damage(skill, cp, phy_amp, phy_cp, glyph_dmg, False, True))))\n",
    "\n",
    "        s.extend([cc_icb*icb_uptime + cc_noicb*(1-icb_uptime), dmg_noicb, dmg_icb, dmg_noicb + dmg_icb])\n",
    "\n",
    "        dmg_sum += dmg_noicb + dmg_icb\n",
    "        result[skill] = s\n",
    "    \n",
    "    for skill in result:\n",
    "        total_skill_dmg = result[skill][3]\n",
    "        percent_dmg = 100 * total_skill_dmg/dmg_sum\n",
    "        result[skill].append(percent_dmg)\n",
    "\n",
    "    if breakdown:\n",
    "        print(dmg_sum)\n",
    "        return result\n",
    "    else:\n",
    "        return dmg_sum"
   ]
  },
  {
   "cell_type": "code",
   "execution_count": 9,
   "metadata": {},
   "outputs": [],
   "source": [
    "power_0 = 395+48\n",
    "cf_0 = 231+(1.2*56)+20\n",
    "cp_0 = 3.44+(0.1*1.0)+(0.1*2.0)\n",
    "phy_amp_0 = 125280+6480\n",
    "phy_cp_0 = 2.23\n",
    "\n",
    "\n",
    "power_array_0 = np.linspace(power_0 + 100, power_0 - 74, 175)\n",
    "cf_array_0 = np.linspace(cf_0 - 200, cf_0 + 148, 175)\n"
   ]
  },
  {
   "cell_type": "code",
   "execution_count": 10,
   "metadata": {},
   "outputs": [
    {
     "name": "stdout",
     "output_type": "stream",
     "text": [
      "17041265.590275813\n",
      "92\n",
      "302.2\n"
     ]
    }
   ],
   "source": [
    "r_0 = np.array([total_damage(power_array_0[i]+(.8*15)+(0.5*16)+(0.14*30),\n",
    "                            cf_array_0[i]+(0.5*20)+(0.14*30), cp_0, phy_amp_0+6480, phy_cp_0, 0.3)\n",
    "                            for i, j in enumerate(power_array_0)])\n",
    "\n",
    "print(np.max(r_0))\n",
    "print(np.argmax(r_0))\n",
    "print(cf_array_0[np.argmax(r_0)])"
   ]
  },
  {
   "cell_type": "code",
   "execution_count": 11,
   "metadata": {},
   "outputs": [
    {
     "data": {
      "image/png": "[encoded data removed]",
      "text/plain": [
       "<Figure size 720x504 with 1 Axes>"
      ]
     },
     "metadata": {
      "needs_background": "light"
     },
     "output_type": "display_data"
    }
   ],
   "source": [
    "plt.figure(figsize=(10, 7))\n",
    "plt.plot(cf_array_0, r_0/np.max(r_0))\n",
    "plt.title(\"Mystic\")\n",
    "plt.xlim(cf_array_0[0], cf_array_0[-1])\n",
    "plt.ylim(0.8, 1.05)\n",
    "plt.xlabel(\"Total Crit Factor after Healer Buffs\")\n",
    "plt.ylabel(\"% Damage\")\n",
    "plt.grid(True)\n",
    "plt.text(cf_array_0[np.argmax(r_0)], 1.02, f\"Max @ {cf_array_0[np.argmax(r_0)]} CF\")\n",
    "plt.show()"
   ]
  },
  {
   "cell_type": "code",
   "execution_count": 12,
   "metadata": {},
   "outputs": [],
   "source": [
    "power_1 = 408+65\n",
    "cf_1 = 231+20+20\n",
    "cp_1 = 3.44+(0.1*1.0)+(0.1*2.0)+(0.55*0.2)\n",
    "phy_amp_1 = 125280+6480\n",
    "phy_cp_1 = 2.23\n",
    "\n",
    "\n",
    "power_array_1 = np.linspace(power_1 + 100, power_1 - 74, 175)\n",
    "cf_array_1 = np.linspace(cf_1 - 200, cf_1 + 148, 175)\n"
   ]
  },
  {
   "cell_type": "code",
   "execution_count": 13,
   "metadata": {},
   "outputs": [
    {
     "name": "stdout",
     "output_type": "stream",
     "text": [
      "17403765.843486514\n",
      "111\n",
      "293.0\n"
     ]
    }
   ],
   "source": [
    "r_1 = np.array([total_damage_p(power_array_1[i]+(.55*15)+(0.5*16)+(0.14*30)+(0.35*50),\n",
    "                            cf_array_1[i], cp_1, phy_amp_1, phy_cp_1, 0.3)\n",
    "                            for i, j in enumerate(power_array_1)])\n",
    "\n",
    "print(np.max(r_1))\n",
    "print(np.argmax(r_1))\n",
    "print(cf_array_1[np.argmax(r_1)])"
   ]
  },
  {
   "cell_type": "code",
   "execution_count": 14,
   "metadata": {},
   "outputs": [
    {
     "name": "stdout",
     "output_type": "stream",
     "text": [
      "17403000.785347186\n"
     ]
    },
    {
     "data": {
      "text/plain": [
       "{'ht': [0.5988913580246912,\n",
       "  269148.6107580054,\n",
       "  350962.6838860536,\n",
       "  620111.294644059,\n",
       "  3.5632435020411792],\n",
       " 'kds': [0.4234938271604938,\n",
       "  0.0,\n",
       "  93210.62660184928,\n",
       "  93210.62660184928,\n",
       "  0.535600887177629],\n",
       " 'ww': [0.5234938271604939,\n",
       "  1314295.2333901958,\n",
       "  777271.1685638035,\n",
       "  2091566.4019539994,\n",
       "  12.018423878455701],\n",
       " 'ohs': [0.4004543209876543,\n",
       "  1394304.0402333362,\n",
       "  1746528.5840403144,\n",
       "  3140832.6242736503,\n",
       "  18.047649730143892],\n",
       " 'ev': [0.4643703703703703,\n",
       "  733279.8504236388,\n",
       "  342787.58015353314,\n",
       "  1076067.430577172,\n",
       "  6.183229224946017],\n",
       " 'pb': [0.9137962962962962,\n",
       "  3235503.539278973,\n",
       "  1952481.0008010739,\n",
       "  5187984.540080046,\n",
       "  29.810861954612886],\n",
       " 'ms': [1.0,\n",
       "  2862944.3117586304,\n",
       "  1520869.3446559035,\n",
       "  4383813.656414534,\n",
       "  25.189987120529096],\n",
       " 'ss': [1.0,\n",
       "  513546.6258753267,\n",
       "  295867.5849265511,\n",
       "  809414.2108018778,\n",
       "  4.651003702093611]}"
      ]
     },
     "execution_count": 14,
     "metadata": {},
     "output_type": "execute_result"
    }
   ],
   "source": [
    "total_damage_p(power_array_1[115]+(.55*15)+(0.5*16)+(0.14*30)+(0.35*50),\n",
    "                            cf_array_1[115], cp_1, phy_amp_1, phy_cp_1, 0.3, True)"
   ]
  },
  {
   "cell_type": "code",
   "execution_count": 15,
   "metadata": {},
   "outputs": [
    {
     "data": {
      "image/png": "[encoded data removed]",
      "text/plain": [
       "<Figure size 720x504 with 1 Axes>"
      ]
     },
     "metadata": {
      "needs_background": "light"
     },
     "output_type": "display_data"
    }
   ],
   "source": [
    "plt.figure(figsize=(10, 7))\n",
    "plt.plot(cf_array_1, r_1/np.max(r_1))\n",
    "plt.title(\"Priest\")\n",
    "plt.xlim(cf_array_1[0], cf_array_1[-1])\n",
    "plt.ylim(0.8, 1.05)\n",
    "plt.xlabel(\"Total Crit Factor after Healer Buffs\")\n",
    "plt.ylabel(\"% Damage\")\n",
    "plt.grid(True)\n",
    "plt.text(cf_array_1[np.argmax(r_1)], 1.02, f\"Max @ {cf_array_1[np.argmax(r_1)]} CF\")\n",
    "plt.show()"
   ]
  },
  {
   "cell_type": "code",
   "execution_count": 16,
   "metadata": {},
   "outputs": [
    {
     "data": {
      "text/plain": [
       "17403765.843486514"
      ]
     },
     "execution_count": 16,
     "metadata": {},
     "output_type": "execute_result"
    }
   ],
   "source": [
    "# priest\n",
    "total_damage_p(power_array_1[np.argmax(r_1)]+(.55*15)+(0.5*16)+(0.14*30)+(0.35*50),\n",
    "                            cf_array_1[np.argmax(r_1)], cp_1, phy_amp_1, phy_cp_1, 0.3)"
   ]
  },
  {
   "cell_type": "code",
   "execution_count": 17,
   "metadata": {},
   "outputs": [
    {
     "data": {
      "text/plain": [
       "17315270.16927323"
      ]
     },
     "execution_count": 17,
     "metadata": {},
     "output_type": "execute_result"
    }
   ],
   "source": [
    "# base\n",
    "total_damage_p(power_array_0[np.argmax(r_0)]+(.8*15)+(0.5*16)+(0.14*30),\n",
    "                            cf_array_0[np.argmax(r_0)]+(0.5*20)+(0.14*30), cp_0, phy_amp_0+6480, phy_cp_0, 0.3)"
   ]
  },
  {
   "cell_type": "code",
   "execution_count": 18,
   "metadata": {},
   "outputs": [
    {
     "data": {
      "text/plain": [
       "17409040.778556574"
      ]
     },
     "execution_count": 18,
     "metadata": {},
     "output_type": "execute_result"
    }
   ],
   "source": [
    "# mystic cf\n",
    "total_damage(power_array_0[np.argmax(r_0)]+(.8*15)+(0.5*16)+(0.14*30),\n",
    "                            cf_array_0[np.argmax(r_0)]+(0.5*20)+(0.14*30)+31, cp_0, phy_amp_0+6480+5500, phy_cp_0-0.12, 0.3)"
   ]
  },
  {
   "cell_type": "code",
   "execution_count": 19,
   "metadata": {},
   "outputs": [
    {
     "data": {
      "text/plain": [
       "17464228.82794403"
      ]
     },
     "execution_count": 19,
     "metadata": {},
     "output_type": "execute_result"
    }
   ],
   "source": [
    "# mystic cf\n",
    "total_damage(power_array_0[np.argmax(r_0)]+(.8*15)+(0.5*16)+(0.14*30),\n",
    "                            cf_array_0[np.argmax(r_0)]+(0.5*20)+(0.14*30)+31, cp_0, phy_amp_0+6480, phy_cp_0, 0.3)"
   ]
  },
  {
   "cell_type": "code",
   "execution_count": 20,
   "metadata": {},
   "outputs": [
    {
     "data": {
      "text/plain": [
       "199750927.59904876"
      ]
     },
     "execution_count": 20,
     "metadata": {},
     "output_type": "execute_result"
    }
   ],
   "source": [
    "# mystic cp\n",
    "total_damage(power_array_0[np.argmax(r_0)]+(.8*15)+(0.5*16)+(0.14*30)+6480,\n",
    "                            cf_array_0[np.argmax(r_0)]+(0.5*20)+(0.14*30), cp_0, phy_amp_0, phy_cp_0, 0.3)"
   ]
  },
  {
   "cell_type": "code",
   "execution_count": 21,
   "metadata": {},
   "outputs": [
    {
     "data": {
      "text/plain": [
       "1.0012962962962964"
      ]
     },
     "execution_count": 21,
     "metadata": {},
     "output_type": "execute_result"
    }
   ],
   "source": [
    "crit_chance(343, 'pb', False)"
   ]
  },
  {
   "cell_type": "code",
   "execution_count": 22,
   "metadata": {},
   "outputs": [
    {
     "data": {
      "text/plain": [
       "0.8353703703703702"
      ]
     },
     "execution_count": 22,
     "metadata": {},
     "output_type": "execute_result"
    }
   ],
   "source": [
    "((0.29*crit_chance(287, 'pb', False)) + (0.36*crit_chance(287, 'pb', False)) + (0.14*crit_chance(287, 'pb', False)) + (0.21*crit_chance(287, 'pb', False)))"
   ]
  }
 ],
 "metadata": {
  "kernelspec": {
   "display_name": "Python 3",
   "language": "python",
   "name": "python3"
  },
  "language_info": {
   "codemirror_mode": {
    "name": "ipython",
    "version": 3
   },
   "file_extension": ".py",
   "mimetype": "text/x-python",
   "name": "python",
   "nbconvert_exporter": "python",
   "pygments_lexer": "ipython3",
   "version": "3.8.2"
  }
 },
 "nbformat": 4,
 "nbformat_minor": 4
}
