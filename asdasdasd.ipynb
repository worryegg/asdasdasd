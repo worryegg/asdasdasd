{
 "cells": [
  {
   "cell_type": "code",
   "execution_count": 1,
   "metadata": {},
   "outputs": [],
   "source": [
    "import numpy as np\n",
    "import matplotlib.pyplot as plt"
   ]
  },
  {
   "cell_type": "markdown",
   "metadata": {},
   "source": [
    "$$\\%CC = \\dfrac{D \\cdot (B \\cdot Cf_{0} + Cf) \\cdot G \\cdot I}{5625 \\cdot CR} + A + F$$\\\n",
    "$$L = Playerlevel - Moblevel$$\\\n",
    "$$F = T \\cdot L$$\\\n",
    "$$T = \\begin{cases} \n",
    "1.50\\% & L > 0 \\\\\n",
    "0.25\\% & L < 0 & \\mathrm{Normal} \\\\\n",
    "0.50\\% & L < 0 & \\mathrm{Bam} \\end{cases}$$\n",
    "\n",
    "$A$ = Additional Crit Chance\n",
    "\n",
    "$B$ = Glyph Value of Base Crit Factor\n",
    "\n",
    "$D$ = Directional Modifier (1000 = Front, 1200 = Side, 1600 = Back)\n",
    "\n",
    "$F$ = Level difference Modifier\n",
    "\n",
    "$G$ = Glyph Value of Crit Chance Glyph (Glyphs/Passives that increase Crit Chance)\n",
    "\n",
    "$I$ = Skill Innate Crit Modifier\n",
    "\n",
    "$\\%CC$ = Crit Chance\n",
    "\n",
    "$CR$ = Crit Resist Factor (For current bosses the base is 210)\n",
    "\n",
    "$Cf_{0}$ = Class Base Crit Factor\n",
    "\n",
    "$Cf$ = Bonus Crit Factor\n",
    "\n",
    "$L$ = Playerlevel - Moblevel"
   ]
  },
  {
   "cell_type": "code",
   "execution_count": 2,
   "metadata": {},
   "outputs": [],
   "source": [
    "# skills\n",
    "# [base damage, phy factor, innate, glyph, additional cc, base cf multiplier, glyph_dmg (15 focus + ww)]\n",
    "\n",
    "skills = {\n",
    "    'ht':  [4514*1.07, 1.5, 1.4, 1, 0, 2, 0.4],\n",
    "    'kds': [4290*1.07, 1.5, 1, 1, 0, 2, 0.4],\n",
    "    'ww':  [4868*1.07/2, 1.4, 1, 1, 0.1, 2, 0.4],\n",
    "    'ohs': [2754*1.1, 1.3, 1.3, 1, 0, 0, 0.65],\n",
    "    'ev':  [4043*1.07, 1.3, 1.5, 1, 0, 0, 0.4],\n",
    "    'pb':  [15421, 1.75, 3, 1, 0, 0, 0.4],\n",
    "    'ms':  [6443, 1.5, 1.5, 3, 0, 0, 0.65],\n",
    "    'ss':  [2857, 1.2, 10, 1, 0, 0, 0.4]\n",
    "}"
   ]
  },
  {
   "cell_type": "code",
   "execution_count": 3,
   "metadata": {},
   "outputs": [],
   "source": [
    "# hpms from sample log\n",
    "\n",
    "hpm_noicb = {\n",
    "    'ht': 2.98,\n",
    "    'kds': 0,\n",
    "    'ww': 29.83,\n",
    "    'ohs': 26.84,\n",
    "    'ev': 10.94,\n",
    "    'pb': 7.95,\n",
    "    'ms': 14.91,\n",
    "    'ss': 7.95\n",
    "}\n",
    "\n",
    "hpm_icb = {\n",
    "    'ht': 6.79,\n",
    "    'kds': 2.26,\n",
    "    'ww': 31.68,\n",
    "    'ohs': 49.78,\n",
    "    'ev': 9.05,\n",
    "    'pb': 9.05,\n",
    "    'ms': 15.84,\n",
    "    'ss': 9.05\n",
    "}"
   ]
  },
  {
   "cell_type": "code",
   "execution_count": 4,
   "metadata": {},
   "outputs": [],
   "source": [
    "def crit_chance(crit_factor, skill, is_icb):\n",
    "    \n",
    "    A = skills[skill][4]\n",
    "    B = skills[skill][5]\n",
    "    D = 1600\n",
    "    G = skills[skill][3]\n",
    "    I = skills[skill][2]\n",
    "    CR = 210-12-25\n",
    "    Cf0 = 56\n",
    "    Cf = crit_factor\n",
    "    L = -0\n",
    "    F = 0.005*L\n",
    "\n",
    "    if is_icb:\n",
    "        G += 0.25\n",
    "    \n",
    "    CC = ((D * ((B * Cf0) + Cf) * G * I)/(5625*CR)) + A + F\n",
    "    \n",
    "    return CC"
   ]
  },
  {
   "cell_type": "code",
   "execution_count": 5,
   "metadata": {},
   "outputs": [],
   "source": [
    "def skill_damage(skill, cp, phy_amp, phy_cp, glyph_dmg, is_crit: bool, is_icb=False):\n",
    "    \n",
    "    s_def = 40000 - 15000 - (0.04*phy_amp)\n",
    "    base_damage = skills[skill][0]\n",
    "    phy_factor = skills[skill][1]\n",
    "    bam_crit_mult = 0.9\n",
    "    \n",
    "    if not is_crit: \n",
    "        cp = 1\n",
    "        phy_cp = 1\n",
    "        bam_crit_mult = 1\n",
    "    \n",
    "    if is_icb:\n",
    "        glyph_dmg += 0.15\n",
    "        if skill == 'ohs':\n",
    "            glyph_dmg += 0.40\n",
    "    \n",
    "    total_mod = cp * bam_crit_mult + (phy_amp * phy_factor * phy_cp / (100000 + s_def))\n",
    "    total_damage = base_damage * total_mod * (1 + glyph_dmg)\n",
    "    \n",
    "    return total_damage"
   ]
  },
  {
   "cell_type": "code",
   "execution_count": 6,
   "metadata": {},
   "outputs": [],
   "source": [
    "def total_hpm(icb_uptime):\n",
    "    \n",
    "    hpm = {}\n",
    "    \n",
    "    for skill in hpm_noicb:\n",
    "        hpm[skill] = hpm_icb[skill] * icb_uptime + hpm_noicb[skill] * (1-icb_uptime)\n",
    "    \n",
    "    return hpm"
   ]
  },
  {
   "cell_type": "code",
   "execution_count": 7,
   "metadata": {},
   "outputs": [],
   "source": [
    "def total_damage(power, crit_factor, cp, phy_amp, phy_cp, icb_uptime, breakdown=False):\n",
    "    \n",
    "    result = {}\n",
    "    dmg_sum = 0\n",
    "    \n",
    "    for skill in skills:\n",
    "        s = []\n",
    "        cc_noicb = min(1, crit_chance(crit_factor, skill, False))\n",
    "        cc_icb = min(1, crit_chance(crit_factor, skill, True))\n",
    "        glyph_dmg = skills[skill][6]\n",
    "        \n",
    "        dmg_noicb = ((power + 100)/(70 + 100)) * hpm_noicb[skill] * (1-icb_uptime) * ((cc_noicb * skill_damage(skill, cp, phy_amp, phy_cp, glyph_dmg, True)) + ((1-cc_noicb) * skill_damage(skill, cp, phy_amp, phy_cp, glyph_dmg, False)))\n",
    "        dmg_icb = ((power + 25 + 100)/(70 + 100)) * hpm_icb[skill] * icb_uptime * ((cc_icb * skill_damage(skill, cp, phy_amp, phy_cp, glyph_dmg, True, True)) + ((1-cc_icb) * skill_damage(skill, cp, phy_amp, phy_cp, glyph_dmg, False, True)))\n",
    "\n",
    "        s.extend([cc_icb*icb_uptime + cc_noicb*(1-icb_uptime), dmg_noicb, dmg_icb, dmg_noicb + dmg_icb])\n",
    "        dmg_sum += dmg_noicb + dmg_icb\n",
    "        result[skill] = s\n",
    "    \n",
    "    for skill in result:\n",
    "        total_skill_dmg = result[skill][3]\n",
    "        percent_dmg = 100 * total_skill_dmg/dmg_sum\n",
    "        result[skill].append(percent_dmg)\n",
    "\n",
    "    if breakdown:\n",
    "        print(dmg_sum)\n",
    "        return result\n",
    "    else:\n",
    "        return dmg_sum"
   ]
  },
  {
   "cell_type": "code",
   "execution_count": 8,
   "metadata": {},
   "outputs": [
    {
     "name": "stdout",
     "output_type": "stream",
     "text": [
      "12863472.512345877\n"
     ]
    },
    {
     "data": {
      "text/plain": [
       "{'ht': [1, 398920.57613159216, 0.0, 398920.57613159216, 3.1011888566537786],\n",
       " 'kds': [0.7497495183044316, 0.0, 0.0, 0.0, 0.0],\n",
       " 'ww': [0.8497495183044316,\n",
       "  1889270.5568424664,\n",
       "  0.0,\n",
       "  1889270.5568424664,\n",
       "  14.687096000160265],\n",
       " 'ohs': [0.7352806679511882,\n",
       "  2073586.6098801417,\n",
       "  0.0,\n",
       "  2073586.6098801417,\n",
       "  16.119959893333554],\n",
       " 'ev': [0.8484007707129094,\n",
       "  1108267.899200075,\n",
       "  0.0,\n",
       "  1108267.899200075,\n",
       "  8.615619912402357],\n",
       " 'pb': [1, 3691175.49038303, 0.0, 3691175.49038303, 28.695015959651478],\n",
       " 'ms': [1, 3137953.6499045417, 0.0, 3137953.6499045417, 24.394296694713283],\n",
       " 'ss': [1, 564297.7300040291, 0.0, 564297.7300040291, 4.386822683085282]}"
      ]
     },
     "execution_count": 8,
     "metadata": {},
     "output_type": "execute_result"
    }
   ],
   "source": [
    "total_damage(359+65, 304+20+20, 3.44, 123280, 2.16, 0, True)"
   ]
  },
  {
   "cell_type": "code",
   "execution_count": 25,
   "metadata": {},
   "outputs": [],
   "source": [
    "power_0 = 359+48\n",
    "cf_0 = 304+(1.2*56)+20\n",
    "cp = 3.44+(0.1*1.0)+(0.1*2.0)+(0.45*0.7)\n",
    "phy_amp = 123280\n",
    "phy_cp = 2.16\n",
    "\n",
    "\n",
    "power_array = np.linspace(power_0 + 100, power_0 - 49, 150)\n",
    "cf_array = np.linspace(cf_0 - 200, cf_0 + 98, 150)\n",
    "\n",
    "# r_0 = np.array([total_damage(power_array[i]+(0.58*15)+(0.35*50)+(0.5*16)+(0.14*30), cf_array[i]+(0.5*20)+(0.35*30)+(0.14*30), cp, phy_amp, phy_cp, 0.35) for i, j in enumerate(power_array)])\n",
    "r_0 = np.array([total_damage(power_array[i]+(.8*15)+(0.5*16)+(0.14*30), cf_array[i]+(0.5*20)+(0.14*30), cp, phy_amp, phy_cp, 0.35) for i, j in enumerate(power_array)])"
   ]
  },
  {
   "cell_type": "code",
   "execution_count": 26,
   "metadata": {},
   "outputs": [
    {
     "name": "stdout",
     "output_type": "stream",
     "text": [
      "18309980.880706456\n",
      "15\n",
      "221.2\n"
     ]
    }
   ],
   "source": [
    "print(np.max(r_0))\n",
    "print(np.argmax(r_0))\n",
    "print(cf_array[np.argmax(r_0)])"
   ]
  },
  {
   "cell_type": "code",
   "execution_count": 27,
   "metadata": {},
   "outputs": [
    {
     "name": "stdout",
     "output_type": "stream",
     "text": [
      "18850939.15244306\n"
     ]
    },
    {
     "data": {
      "text/plain": [
       "{'ht': [0.8208240462427745,\n",
       "  292803.82098168234,\n",
       "  471866.0044234699,\n",
       "  764669.8254051523,\n",
       "  4.056401748589019],\n",
       " 'kds': [0.5863028901734104,\n",
       "  0.0,\n",
       "  122723.85443183364,\n",
       "  122723.85443183364,\n",
       "  0.6510224951626815],\n",
       " 'ww': [0.6863028901734103,\n",
       "  1394734.8706757538,\n",
       "  1019951.2666942384,\n",
       "  2414686.137369992,\n",
       "  12.809367840206793],\n",
       " 'ohs': [0.5018531021194604,\n",
       "  1414306.339417412,\n",
       "  2177973.2590797055,\n",
       "  3592279.5984971174,\n",
       "  19.056236771267507],\n",
       " 'ev': [0.5790612716763005,\n",
       "  747207.6377918957,\n",
       "  429572.09423710447,\n",
       "  1176779.732029,\n",
       "  6.242552280884588],\n",
       " 'pb': [1.0,\n",
       "  3189557.0910478174,\n",
       "  2248408.536244438,\n",
       "  5437965.627292255,\n",
       "  28.84718678107611],\n",
       " 'ms': [1.0,\n",
       "  2728720.7585922824,\n",
       "  1768825.2196622305,\n",
       "  4497545.978254513,\n",
       "  23.85847167551669],\n",
       " 'ss': [1.0,\n",
       "  495204.68406882166,\n",
       "  349083.7150943715,\n",
       "  844288.3991631932,\n",
       "  4.478760407296601]}"
      ]
     },
     "execution_count": 27,
     "metadata": {},
     "output_type": "execute_result"
    }
   ],
   "source": [
    "total_damage(power_array[0]+(0.58*15)+(0.35*50)+(0.5*16)+(0.14*30), cf_array[0]+(0.5*20)+(0.35*30)+(0.14*30), cp, phy_amp, phy_cp, .35, True)"
   ]
  },
  {
   "cell_type": "code",
   "execution_count": 28,
   "metadata": {},
   "outputs": [
    {
     "data": {
      "image/png": "[encoded data removed]",
      "text/plain": [
       "<Figure size 432x288 with 1 Axes>"
      ]
     },
     "metadata": {
      "needs_background": "light"
     },
     "output_type": "display_data"
    }
   ],
   "source": [
    "plt.plot(cf_array, r_0)\n",
    "plt.show()"
   ]
  }
 ],
 "metadata": {
  "kernelspec": {
   "display_name": "Python 3",
   "language": "python",
   "name": "python3"
  },
  "language_info": {
   "codemirror_mode": {
    "name": "ipython",
    "version": 3
   },
   "file_extension": ".py",
   "mimetype": "text/x-python",
   "name": "python",
   "nbconvert_exporter": "python",
   "pygments_lexer": "ipython3",
   "version": "3.8.2"
  }
 },
 "nbformat": 4,
 "nbformat_minor": 4
}
